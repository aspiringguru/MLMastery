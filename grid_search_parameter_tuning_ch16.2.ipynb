{
 "cells": [
  {
   "cell_type": "code",
   "execution_count": 10,
   "metadata": {
    "collapsed": true
   },
   "outputs": [],
   "source": [
    "#Ch 16.2 machine_learning_mastery_with_python\n",
    "#grid search optimisation on linear regression ridge method"
   ]
  },
  {
   "cell_type": "code",
   "execution_count": 15,
   "metadata": {},
   "outputs": [
    {
     "name": "stdout",
     "output_type": "stream",
     "text": [
      "libraries loaded\n"
     ]
    }
   ],
   "source": [
    "# Grid Search for Algorithm Tuning \n",
    "import numpy \n",
    "import pandas\n",
    "from pandas import read_csv \n",
    "from sklearn.linear_model import Ridge \n",
    "from sklearn.model_selection import GridSearchCV \n",
    "print (\"libraries loaded\")"
   ]
  },
  {
   "cell_type": "code",
   "execution_count": 4,
   "metadata": {},
   "outputs": [
    {
     "name": "stdout",
     "output_type": "stream",
     "text": [
      "(768, 9)\n"
     ]
    }
   ],
   "source": [
    "filename = 'data\\pima-indians-diabetes.data.csv' \n",
    "names = ['preg', 'plas', 'pres', 'skin', 'test', 'mass', 'pedi', 'age', 'class'] \n",
    "dataframe = read_csv(filename, names=names) \n",
    "print(dataframe.shape)"
   ]
  },
  {
   "cell_type": "code",
   "execution_count": 9,
   "metadata": {},
   "outputs": [
    {
     "name": "stdout",
     "output_type": "stream",
     "text": [
      "<class 'numpy.ndarray'>\n",
      "(768, 8)\n",
      "(768,)\n"
     ]
    }
   ],
   "source": [
    "#convert to numpy.ndarray for ease of splitting column off.\n",
    "array = dataframe.values \n",
    "print (type(array))\n",
    "X = array[:,0:8] \n",
    "Y = array[:,8] \n",
    "print (X.shape)\n",
    "print (Y.shape)"
   ]
  },
  {
   "cell_type": "code",
   "execution_count": 11,
   "metadata": {},
   "outputs": [
    {
     "name": "stdout",
     "output_type": "stream",
     "text": [
      "(6,) [  1.00000000e+00   1.00000000e-01   1.00000000e-02   1.00000000e-03\n",
      "   1.00000000e-04   0.00000000e+00]\n"
     ]
    }
   ],
   "source": [
    "#setup range of values for gridsearch.\n",
    "alphas = numpy.array([1,0.1,0.01,0.001,0.0001,0]) \n",
    "print (alphas.shape, alphas)"
   ]
  },
  {
   "cell_type": "code",
   "execution_count": 13,
   "metadata": {},
   "outputs": [
    {
     "name": "stdout",
     "output_type": "stream",
     "text": [
      "type(param_grid): <class 'dict'>\n",
      "param_grid: {'alpha': array([  1.00000000e+00,   1.00000000e-01,   1.00000000e-02,\n",
      "         1.00000000e-03,   1.00000000e-04,   0.00000000e+00])}\n",
      "grid.best_score_: 0.279617559313\n",
      "grid.best_estimator_.alpha: 1.0\n"
     ]
    }
   ],
   "source": [
    "param_grid = dict(alpha=alphas) \n",
    "print (\"type(param_grid):\", type(param_grid))\n",
    "print (\"param_grid:\", param_grid)\n",
    "model = Ridge() \n",
    "\n",
    "#\n",
    "grid = GridSearchCV(estimator=model, param_grid=param_grid) \n",
    "#http://scikit-learn.org/stable/modules/generated/sklearn.model_selection.GridSearchCV.html\n",
    "\n",
    "grid.fit(X, Y) \n",
    "\n",
    "print(\"grid.best_score_:\", grid.best_score_) \n",
    "print(\"grid.best_estimator_.alpha:\", grid.best_estimator_.alpha)"
   ]
  },
  {
   "cell_type": "code",
   "execution_count": 16,
   "metadata": {},
   "outputs": [
    {
     "data": {
      "text/html": [
       "<div>\n",
       "<style>\n",
       "    .dataframe thead tr:only-child th {\n",
       "        text-align: right;\n",
       "    }\n",
       "\n",
       "    .dataframe thead th {\n",
       "        text-align: left;\n",
       "    }\n",
       "\n",
       "    .dataframe tbody tr th {\n",
       "        vertical-align: top;\n",
       "    }\n",
       "</style>\n",
       "<table border=\"1\" class=\"dataframe\">\n",
       "  <thead>\n",
       "    <tr style=\"text-align: right;\">\n",
       "      <th></th>\n",
       "      <th>mean_fit_time</th>\n",
       "      <th>mean_score_time</th>\n",
       "      <th>mean_test_score</th>\n",
       "      <th>mean_train_score</th>\n",
       "      <th>param_alpha</th>\n",
       "      <th>params</th>\n",
       "      <th>rank_test_score</th>\n",
       "      <th>split0_test_score</th>\n",
       "      <th>split0_train_score</th>\n",
       "      <th>split1_test_score</th>\n",
       "      <th>split1_train_score</th>\n",
       "      <th>split2_test_score</th>\n",
       "      <th>split2_train_score</th>\n",
       "      <th>std_fit_time</th>\n",
       "      <th>std_score_time</th>\n",
       "      <th>std_test_score</th>\n",
       "      <th>std_train_score</th>\n",
       "    </tr>\n",
       "  </thead>\n",
       "  <tbody>\n",
       "    <tr>\n",
       "      <th>0</th>\n",
       "      <td>0.005880</td>\n",
       "      <td>0.000167</td>\n",
       "      <td>0.279618</td>\n",
       "      <td>0.307293</td>\n",
       "      <td>1</td>\n",
       "      <td>{'alpha': 1.0}</td>\n",
       "      <td>1</td>\n",
       "      <td>0.283283</td>\n",
       "      <td>0.306793</td>\n",
       "      <td>0.207525</td>\n",
       "      <td>0.342399</td>\n",
       "      <td>0.348045</td>\n",
       "      <td>0.272685</td>\n",
       "      <td>0.007255</td>\n",
       "      <td>0.000236</td>\n",
       "      <td>0.057425</td>\n",
       "      <td>0.028463</td>\n",
       "    </tr>\n",
       "    <tr>\n",
       "      <th>1</th>\n",
       "      <td>0.000277</td>\n",
       "      <td>0.000000</td>\n",
       "      <td>0.279597</td>\n",
       "      <td>0.307296</td>\n",
       "      <td>0.1</td>\n",
       "      <td>{'alpha': 0.1}</td>\n",
       "      <td>2</td>\n",
       "      <td>0.283430</td>\n",
       "      <td>0.306796</td>\n",
       "      <td>0.207326</td>\n",
       "      <td>0.342404</td>\n",
       "      <td>0.348034</td>\n",
       "      <td>0.272689</td>\n",
       "      <td>0.000392</td>\n",
       "      <td>0.000000</td>\n",
       "      <td>0.057508</td>\n",
       "      <td>0.028464</td>\n",
       "    </tr>\n",
       "    <tr>\n",
       "      <th>2</th>\n",
       "      <td>0.000000</td>\n",
       "      <td>0.000000</td>\n",
       "      <td>0.279594</td>\n",
       "      <td>0.307296</td>\n",
       "      <td>0.01</td>\n",
       "      <td>{'alpha': 0.01}</td>\n",
       "      <td>3</td>\n",
       "      <td>0.283444</td>\n",
       "      <td>0.306796</td>\n",
       "      <td>0.207306</td>\n",
       "      <td>0.342404</td>\n",
       "      <td>0.348033</td>\n",
       "      <td>0.272689</td>\n",
       "      <td>0.000000</td>\n",
       "      <td>0.000000</td>\n",
       "      <td>0.057516</td>\n",
       "      <td>0.028464</td>\n",
       "    </tr>\n",
       "    <tr>\n",
       "      <th>3</th>\n",
       "      <td>0.000000</td>\n",
       "      <td>0.000000</td>\n",
       "      <td>0.279594</td>\n",
       "      <td>0.307296</td>\n",
       "      <td>0.001</td>\n",
       "      <td>{'alpha': 0.001}</td>\n",
       "      <td>4</td>\n",
       "      <td>0.283446</td>\n",
       "      <td>0.306796</td>\n",
       "      <td>0.207303</td>\n",
       "      <td>0.342404</td>\n",
       "      <td>0.348032</td>\n",
       "      <td>0.272689</td>\n",
       "      <td>0.000000</td>\n",
       "      <td>0.000000</td>\n",
       "      <td>0.057517</td>\n",
       "      <td>0.028464</td>\n",
       "    </tr>\n",
       "    <tr>\n",
       "      <th>4</th>\n",
       "      <td>0.000000</td>\n",
       "      <td>0.000000</td>\n",
       "      <td>0.279594</td>\n",
       "      <td>0.307296</td>\n",
       "      <td>0.0001</td>\n",
       "      <td>{'alpha': 0.0001}</td>\n",
       "      <td>5</td>\n",
       "      <td>0.283446</td>\n",
       "      <td>0.306796</td>\n",
       "      <td>0.207303</td>\n",
       "      <td>0.342404</td>\n",
       "      <td>0.348032</td>\n",
       "      <td>0.272689</td>\n",
       "      <td>0.000000</td>\n",
       "      <td>0.000000</td>\n",
       "      <td>0.057517</td>\n",
       "      <td>0.028464</td>\n",
       "    </tr>\n",
       "    <tr>\n",
       "      <th>5</th>\n",
       "      <td>0.005209</td>\n",
       "      <td>0.000000</td>\n",
       "      <td>0.279594</td>\n",
       "      <td>0.307296</td>\n",
       "      <td>0</td>\n",
       "      <td>{'alpha': 0.0}</td>\n",
       "      <td>6</td>\n",
       "      <td>0.283446</td>\n",
       "      <td>0.306796</td>\n",
       "      <td>0.207303</td>\n",
       "      <td>0.342404</td>\n",
       "      <td>0.348032</td>\n",
       "      <td>0.272689</td>\n",
       "      <td>0.007367</td>\n",
       "      <td>0.000000</td>\n",
       "      <td>0.057517</td>\n",
       "      <td>0.028464</td>\n",
       "    </tr>\n",
       "  </tbody>\n",
       "</table>\n",
       "</div>"
      ],
      "text/plain": [
       "   mean_fit_time  mean_score_time  mean_test_score  mean_train_score  \\\n",
       "0       0.005880         0.000167         0.279618          0.307293   \n",
       "1       0.000277         0.000000         0.279597          0.307296   \n",
       "2       0.000000         0.000000         0.279594          0.307296   \n",
       "3       0.000000         0.000000         0.279594          0.307296   \n",
       "4       0.000000         0.000000         0.279594          0.307296   \n",
       "5       0.005209         0.000000         0.279594          0.307296   \n",
       "\n",
       "  param_alpha             params  rank_test_score  split0_test_score  \\\n",
       "0           1     {'alpha': 1.0}                1           0.283283   \n",
       "1         0.1     {'alpha': 0.1}                2           0.283430   \n",
       "2        0.01    {'alpha': 0.01}                3           0.283444   \n",
       "3       0.001   {'alpha': 0.001}                4           0.283446   \n",
       "4      0.0001  {'alpha': 0.0001}                5           0.283446   \n",
       "5           0     {'alpha': 0.0}                6           0.283446   \n",
       "\n",
       "   split0_train_score  split1_test_score  split1_train_score  \\\n",
       "0            0.306793           0.207525            0.342399   \n",
       "1            0.306796           0.207326            0.342404   \n",
       "2            0.306796           0.207306            0.342404   \n",
       "3            0.306796           0.207303            0.342404   \n",
       "4            0.306796           0.207303            0.342404   \n",
       "5            0.306796           0.207303            0.342404   \n",
       "\n",
       "   split2_test_score  split2_train_score  std_fit_time  std_score_time  \\\n",
       "0           0.348045            0.272685      0.007255        0.000236   \n",
       "1           0.348034            0.272689      0.000392        0.000000   \n",
       "2           0.348033            0.272689      0.000000        0.000000   \n",
       "3           0.348032            0.272689      0.000000        0.000000   \n",
       "4           0.348032            0.272689      0.000000        0.000000   \n",
       "5           0.348032            0.272689      0.007367        0.000000   \n",
       "\n",
       "   std_test_score  std_train_score  \n",
       "0        0.057425         0.028463  \n",
       "1        0.057508         0.028464  \n",
       "2        0.057516         0.028464  \n",
       "3        0.057517         0.028464  \n",
       "4        0.057517         0.028464  \n",
       "5        0.057517         0.028464  "
      ]
     },
     "execution_count": 16,
     "metadata": {},
     "output_type": "execute_result"
    }
   ],
   "source": [
    "pandas.DataFrame(grid.cv_results_)"
   ]
  },
  {
   "cell_type": "code",
   "execution_count": null,
   "metadata": {
    "collapsed": true
   },
   "outputs": [],
   "source": []
  }
 ],
 "metadata": {
  "kernelspec": {
   "display_name": "Python 3",
   "language": "python",
   "name": "python3"
  },
  "language_info": {
   "codemirror_mode": {
    "name": "ipython",
    "version": 3
   },
   "file_extension": ".py",
   "mimetype": "text/x-python",
   "name": "python",
   "nbconvert_exporter": "python",
   "pygments_lexer": "ipython3",
   "version": "3.6.1"
  }
 },
 "nbformat": 4,
 "nbformat_minor": 2
}
